{
 "cells": [
  {
   "cell_type": "markdown",
   "metadata": {
    "scrolled": false
   },
   "source": [
    "# Gradient Descent Example\n",
    "#### Grade in relation to Hours of Studying"
   ]
  },
  {
   "cell_type": "code",
   "execution_count": 1,
   "metadata": {},
   "outputs": [],
   "source": [
    "hours <- c(10, 9, 7, 2, 3, 6, 2, 8, 11, 8)\n",
    "grades <- c(98, 91, 73, 24, 35, 57, 18, 93, 87, 83)"
   ]
  },
  {
   "cell_type": "code",
   "execution_count": 2,
   "metadata": {},
   "outputs": [
    {
     "data": {
      "text/html": [
       "<ol class=list-inline>\n",
       "\t<li>98</li>\n",
       "\t<li>91</li>\n",
       "\t<li>73</li>\n",
       "\t<li>24</li>\n",
       "\t<li>35</li>\n",
       "\t<li>57</li>\n",
       "\t<li>18</li>\n",
       "\t<li>93</li>\n",
       "\t<li>87</li>\n",
       "\t<li>83</li>\n",
       "</ol>\n"
      ],
      "text/latex": [
       "\\begin{enumerate*}\n",
       "\\item 98\n",
       "\\item 91\n",
       "\\item 73\n",
       "\\item 24\n",
       "\\item 35\n",
       "\\item 57\n",
       "\\item 18\n",
       "\\item 93\n",
       "\\item 87\n",
       "\\item 83\n",
       "\\end{enumerate*}\n"
      ],
      "text/markdown": [
       "1. 98\n",
       "2. 91\n",
       "3. 73\n",
       "4. 24\n",
       "5. 35\n",
       "6. 57\n",
       "7. 18\n",
       "8. 93\n",
       "9. 87\n",
       "10. 83\n",
       "\n",
       "\n"
      ],
      "text/plain": [
       " [1] 98 91 73 24 35 57 18 93 87 83"
      ]
     },
     "metadata": {},
     "output_type": "display_data"
    },
    {
     "data": {
      "text/html": [
       "<ol class=list-inline>\n",
       "\t<li>10</li>\n",
       "\t<li>9</li>\n",
       "\t<li>7</li>\n",
       "\t<li>2</li>\n",
       "\t<li>3</li>\n",
       "\t<li>6</li>\n",
       "\t<li>2</li>\n",
       "\t<li>8</li>\n",
       "\t<li>11</li>\n",
       "\t<li>8</li>\n",
       "</ol>\n"
      ],
      "text/latex": [
       "\\begin{enumerate*}\n",
       "\\item 10\n",
       "\\item 9\n",
       "\\item 7\n",
       "\\item 2\n",
       "\\item 3\n",
       "\\item 6\n",
       "\\item 2\n",
       "\\item 8\n",
       "\\item 11\n",
       "\\item 8\n",
       "\\end{enumerate*}\n"
      ],
      "text/markdown": [
       "1. 10\n",
       "2. 9\n",
       "3. 7\n",
       "4. 2\n",
       "5. 3\n",
       "6. 6\n",
       "7. 2\n",
       "8. 8\n",
       "9. 11\n",
       "10. 8\n",
       "\n",
       "\n"
      ],
      "text/plain": [
       " [1] 10  9  7  2  3  6  2  8 11  8"
      ]
     },
     "metadata": {},
     "output_type": "display_data"
    }
   ],
   "source": [
    "grades\n",
    "hours"
   ]
  },
  {
   "cell_type": "markdown",
   "metadata": {},
   "source": [
    "Now, let's plot the data and see if it is linear"
   ]
  },
  {
   "cell_type": "code",
   "execution_count": 3,
   "metadata": {},
   "outputs": [
    {
     "data": {
      "image/png": "iVBORw0KGgoAAAANSUhEUgAAA0gAAANICAMAAADKOT/pAAAC/VBMVEUAAAABAQECAgIDAwME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\nAAAASUVORK5CYII=",
      "text/plain": [
       "plot without title"
      ]
     },
     "metadata": {},
     "output_type": "display_data"
    }
   ],
   "source": [
    "plot(hours, grades)"
   ]
  },
  {
   "cell_type": "markdown",
   "metadata": {},
   "source": [
    "`Questions to ask:\n",
    "\n",
    "1) What is the optimal linear model?\n",
    "\n",
    "2) What are the parameters that let Gradient Descent arrive at this optimal model?"
   ]
  },
  {
   "cell_type": "code",
   "execution_count": 4,
   "metadata": {},
   "outputs": [
    {
     "data": {
      "text/plain": [
       "\n",
       "Call:\n",
       "lm(formula = grades ~ hours)\n",
       "\n",
       "Coefficients:\n",
       "(Intercept)        hours  \n",
       "      7.253        8.886  \n"
      ]
     },
     "metadata": {},
     "output_type": "display_data"
    }
   ],
   "source": [
    "lm(grades~hours)"
   ]
  },
  {
   "cell_type": "code",
   "execution_count": 6,
   "metadata": {},
   "outputs": [
    {
     "data": {
      "image/png": "iVBORw0KGgoAAAANSUhEUgAAA0gAAANICAMAAADKOT/pAAAC/VBMVEUAAAABAQECAgIDAwME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\nSUVORK5CYII=",
      "text/plain": [
       "plot without title"
      ]
     },
     "metadata": {},
     "output_type": "display_data"
    }
   ],
   "source": [
    "plot(hours, grades)\n",
    "abline(lm(grades~hours))"
   ]
  },
  {
   "cell_type": "markdown",
   "metadata": {},
   "source": [
    "The important parameters to set are initial $\\beta_0$, $\\beta_1$, $\\alpha$, and $\\epsilon$"
   ]
  },
  {
   "cell_type": "markdown",
   "metadata": {},
   "source": [
    "Let's set $\\beta_0 = 0$\n",
    "\n",
    "$\\beta_1 = 10$\n",
    "\n",
    "$\\epsilon = 0.1$\n",
    "\n",
    "and \n",
    "\n",
    "$\\alpha = 0.1$"
   ]
  },
  {
   "cell_type": "markdown",
   "metadata": {},
   "source": [
    "We will loop until $\\| \\nabla J(\\beta) \\|_2 < \\epsilon$"
   ]
  },
  {
   "cell_type": "code",
   "execution_count": 7,
   "metadata": {},
   "outputs": [],
   "source": [
    "alpha = 0.1\n",
    "epsilon = 0.1\n",
    "\n",
    "\n",
    "beta0 <- 0\n",
    "beta1 <- 10\n",
    "magGradient <- Inf\n",
    "i <- 0\n"
   ]
  },
  {
   "cell_type": "markdown",
   "metadata": {},
   "source": [
    "while (magGradient > epsilon) {\n",
    "\n",
    "i <- i+1\n",
    "\n",
    "ypred <- beta0 + beta1*hours\n",
    "\n",
    "ypred\n",
    "\n",
    "MSE <- sum(( grades - ypred )^2/2)/(length(ypred))\n",
    "\n",
    "MSE\n",
    "\n",
    "diffB0 <- sum((ypred - grades))/length(ypred)\n",
    "\n",
    "diffB0\n",
    "\n",
    "diffB1 <- sum((ypred - grades)*hours)/length(ypred)\n",
    "\n",
    "diffB1\n",
    "\n",
    "magGradient <- sqrt(diffB0^2 + diffB1^2)\n",
    "\n",
    "magGradient\n",
    "\n",
    "beta0 <- beta0 - (alpha * diffB0)\n",
    "\n",
    "beta0\n",
    "\n",
    "beta1 <- beta1 - (alpha * diffB1)\n",
    "\n",
    "beta1\n",
    "\n",
    "}\n",
    "\n",
    "#### But what happens when we run this code? Let's manually go through the first few iterations"
   ]
  },
  {
   "cell_type": "code",
   "execution_count": 13,
   "metadata": {},
   "outputs": [
    {
     "name": "stdout",
     "output_type": "stream",
     "text": [
      "Iteration: 6 New Beta 0: 189.178865658368 New Beta1: 1523.70038980471 magnitude: 18722.6258303104 \n"
     ]
    }
   ],
   "source": [
    "i <- i+1\n",
    "\n",
    "ypred <- beta0 + beta1*hours\n",
    "\n",
    "MSE <- sum(( grades - ypred )^2/2)/(length(ypred))\n",
    "\n",
    "diffB0 <- sum((ypred - grades))/length(ypred)\n",
    "\n",
    "diffB1 <- sum((ypred - grades)*hours)/length(ypred)\n",
    "\n",
    "magGradient <- sqrt(diffB0^2 + diffB1^2)\n",
    "\n",
    "beta0 <- beta0 - (alpha * diffB0)\n",
    "\n",
    "beta1 <- beta1 - (alpha * diffB1)\n",
    "\n",
    "cat(paste('Iteration:', i, 'New Beta 0:', beta0, 'New Beta1:', beta1, 'magnitude:', magGradient,'\\n'))"
   ]
  },
  {
   "cell_type": "markdown",
   "metadata": {},
   "source": [
    "We need to reset! Clearly learning rates need to be much smaller!"
   ]
  },
  {
   "cell_type": "code",
   "execution_count": 14,
   "metadata": {},
   "outputs": [],
   "source": [
    "alpha = 0.01\n",
    "epsilon = 0.1\n",
    "\n",
    "\n",
    "beta0 <- 0\n",
    "beta1 <- 10\n",
    "magGradient <- Inf\n",
    "i <- 0"
   ]
  },
  {
   "cell_type": "code",
   "execution_count": 15,
   "metadata": {},
   "outputs": [
    {
     "name": "stdout",
     "output_type": "stream",
     "text": [
      "Iteration: 1441 New Beta 0: 6.69807922386792 New Beta1: 8.95498131396601 magnitude: 0.0999869073275198 \n"
     ]
    }
   ],
   "source": [
    "while(magGradient > epsilon) {\n",
    "    i <- i+1\n",
    "\n",
    "ypred <- beta0 + beta1*hours\n",
    "\n",
    "MSE <- sum(( grades - ypred )^2/2)/(length(ypred))\n",
    "\n",
    "diffB0 <- sum((ypred - grades))/length(ypred)\n",
    "\n",
    "diffB1 <- sum((ypred - grades)*hours)/length(ypred)\n",
    "\n",
    "magGradient <- sqrt(diffB0^2 + diffB1^2)\n",
    "\n",
    "beta0 <- beta0 - (alpha * diffB0)\n",
    "\n",
    "beta1 <- beta1 - (alpha * diffB1)\n",
    "\n",
    "}\n",
    "\n",
    "\n",
    "cat(paste('Iteration:', i, 'New Beta 0:', beta0, 'New Beta1:', beta1, 'magnitude:', magGradient,'\\n'))"
   ]
  },
  {
   "cell_type": "code",
   "execution_count": 17,
   "metadata": {},
   "outputs": [
    {
     "data": {
      "image/png": "iVBORw0KGgoAAAANSUhEUgAAA0gAAANICAMAAADKOT/pAAADAFBMVEUAAAABAQECAgIDAwME\nBAQFBQUGBgYHBwcICAgJCQkKCgoLCwsMDAwNDQ0ODg4PDw8QEBARERESEhITExMUFBQVFRUW\nFhYXFxcYGBgZGRkaGhobGxscHBwdHR0eHh4fHx8gICAhISEiIiIjIyMkJCQlJSUmJiYnJyco\nKCgpKSkqKiorKyssLCwtLS0uLi4vLy8wMDAxMTEyMjIzMzM0NDQ1NTU2NjY3Nzc4ODg5OTk6\nOjo7Ozs8PDw9PT0+Pj4/Pz9AQEBBQUFCQkJDQ0NERERFRUVGRkZHR0dISEhJSUlKSkpLS0tM\nTExNTU1OTk5PT09QUFBRUVFSUlJTU1NUVFRVVVVWVlZXV1dYWFhZWVlaWlpbW1tcXFxdXV1e\nXl5fX19gYGBhYWFiYmJjY2NkZGRlZWVmZmZnZ2doaGhpaWlqampra2tsbGxtbW1ubm5vb29w\ncHBxcXFycnJzc3N0dHR1dXV2dnZ3d3d4eHh5eXl6enp7e3t8fHx9fX1+fn5/f3+AgICBgYGC\ngoKDg4OEhISFhYWGhoaHh4eIiIiJiYmKioqLi4uMjIyNjY2Ojo6Pj4+QkJCRkZGSkpKTk5OU\nlJSVlZWWlpaXl5eYmJiZmZmampqbm5ucnJydnZ2enp6fn5+goKChoaGioqKjo6OkpKSlpaWm\npqanp6eoqKipqamqqqqrq6usrKytra2urq6vr6+wsLCxsbGysrKzs7O0tLS1tbW2tra3t7e4\nuLi5ubm6urq7u7u8vLy9vb2+vr6/v7/AwMDBwcHCwsLDw8PExMTFxcXGxsbHx8fIyMjJycnK\nysrLy8vMzMzNzc3Ozs7Pz8/Q0NDR0dHS0tLT09PU1NTV1dXW1tbX19fY2NjZ2dna2trb29vc\n3Nzd3d3e3t7f39/g4ODh4eHi4uLj4+Pk5OTl5eXm5ubn5+fo6Ojp6enq6urr6+vs7Ozt7e3u\n7u7v7+/w8PDx8fHy8vLz8/P09PT19fX29vb39/f4+Pj5+fn6+vr7+/v8/Pz9/f3+/v7////i\nsF19AAAACXBIWXMAABJ0AAASdAHeZh94AAAgAElEQVR4nO3dCXgV5bnA8e+s2QkJJIQtYRUX\nkAioIIIogqxiRRFxAYmoCAVbRLS1Ru1VKFwtaqlULYpad2O9WrUC4o4KuCCigkhFCWglUQmS\nQDhzc7KQYE4myTnfzDfL//c8TQYyybxPy7+QnHPmFRqAmAnVAwBOQEiABIQESEBIgASEBEhA\nSIAEhARIQEiABIQESEBIgASEBEhASIAEhARIQEiABIQESEBIgASEBEhASIAEhARIQEiABIQE\nSEBIgASEBEhASIAEhARIQEiABIQESEBIgASEBEhASIAEhARIQEiABIQESEBIgASEBEhASIAE\nhARIQEiABIQESEBIgASEBEhASIAEhARIQEiABIQESEBIgASEBEhASIAEhARIQEiABIQESEBI\ngASEBEhASIAEhARIQEiABIQESEBIgASEBEhASIAEhARIQEiABIQESEBIgASEBEhASIAEhARI\nQEiABIQESEBIgASEBEhASIAEhARIQEiABIQESEBIgASEBEhASIAEhARIQEiABIQESEBIgASE\nBEhASIAEhARIQEiABIQESEBIgASEBEhASIAEsYQU2rqioGDVdmmzALYVfUhFczJFpeybf5Y4\nEGBHUYdU2Fl0n5K/cOH157cTvYtkjgTYT9Qh5QWeqD4qX+KZLWkawKaiDilrau3xeR1ljALY\nV9QhBW6pPb4xKGMUwL6iDilnQu3xuE56Z364DrCVD5vfQ9QhzfYsKq06KrlBzNM5ca0AbGZt\ns3uIOqTiPiJl6JSZMyYPSRSD9uic+JYoi/YaQNQKe2cEHonuU8vEW83+nOgfRyq7PdcXjjfQ\n/55yvfMICQps6tg66aUoP9fckCrs27x+/ZbGMiEkmO/dVplt3o/2k80OqWlPESIkmO65hFZd\ntkT92eaG1NSnCBESzLbcn3bCd9F/uqkhNfkpQoQEky32JY/dG8PnmxpSk58iREgwVWhOIGHK\ngVi+gqkh6T5FqOjKyw4ZSUgwUdnERL/e45pN+RJmhqT7FKG6IQ0Seo8yAVLtGZ7iuzvGr2Fq\nSE1+itBSQoJpduamBZ+M9YuYGlKTnyJESDDN1q7pLd+I+auYGlKTnyJESDDL2oz07E9j/zLW\nfIoQIcEkK1PSjvlawtex5lOECAnmeMifcuoPMr6Q6SHV+F7v2RiEBFMs9safvU/KV1IW0jy9\nr0JIMEFonj8w66Ccr0VIcKsDU+O8+bK+GCHBBd76zbCz/vDF4b9XMjI58LC0K5gaUt86sggJ\nJgnN8p5x3VX94pbV/c3v+6ckvijvGqaG5PXGHeIjJJhkcYvXw+/u9tf5s/5lt9TM9RKvYWpI\n81Jqf1THP+1gkoNZi6sOJo499Hsft03ptFnmRUwNaf9x/fbXHBMSTPKZqH7E9Ym0mt96JSWl\n37dSL2LuDxs2JVxdc0hIMMl7ovoVeyt9oaqDgmDC6T/JvYjJP7X7cXfN0avzdU4jJMhTKD6q\nOliaU/X+Lm/cxfsbOjtKyn78rYuQINGJUyrflR1b+arsUL7PNysk+xqEBMd7K252kaZ9eUb7\n8LdF5dOCviXyr0FIcL5Vnbxd24mTwj8z3jsqPvC4AZcgJLjAgTX3/mND+KBoQFLVg0qyERJc\nZMfRSW0+MuQrExLcY2O75CMNWgROSHCNNS0TT/zeoK9NSHCLf8bFj9O9U3YsCAkuscznnynp\nVXwREBLcYYHXl2/glyckuEH5FQHfvUZegJDgAqXnxMX/y9ArEBKcr3hgfMu3jb0EIcHxCnsm\ndvzc4GsQEpxuU7uEXLmv4ouAkOBw76bFn/qj4VchJDjbywmBC2W/ii8CQoKjLfd5Zd1MVRch\nwckWe72LTLkQIcG5QnN8gcfMuRQhwbHKJgSTXzXrWoQEh9ozNK71B2ZdjJDgUDt7xnf7yrSr\nERKcaWtOXN//mnc5QoIjrU0LjDbsVXwREBKcaGWif8oBMy9ISHCgh33eG8y9IiHBeRZ7vX8z\n+ZKEBKcJXeONe97sixISjPDjTYPb5E7dqOLSBy72pzT/D3WsCAkG2N61842PLh4eZ8RdthtR\ncnqw3WfmX5aQYIBBQ0rC7xbGbzP7yrv7BI74xuyLaoQEI7zvqVoWHOp7nclX3tYpeLLxr+KL\ngJAg3z1dqw+uHWbuhT9u7R+3z9xLViMkyHdXz+qDmwebet3ViT4Db6aqi5Ag34sJJVUH4y8x\n87IFAc8CM69XFyFBvn1tr698vz7wsolXvdPje8TEyx2OkGCAZ/0zNx0ovDd9snmXDF3viXvJ\nvMv9EiHBCCt7Cq9oeUu5aRcsn+JLe9+0q9VHSDDGzlc/Ny8jbe8wf/st5l2uPkKCAxT1DRz7\nndIJCAn2t6Orf9hetSMQEmxvY4Zvkqmv4ouAkGBlX949K/+ZRu44vCbZO8ecaXQQEizsRn+3\nX52a3P0jvXP+GfD+1ax5GkZIsK7FiQUVb3+Y0EbndkD3eX1PmjZQwwgJllXa8u7K9/uP/l2D\n5/yPJ/ENs+bRQ0iwrNf81U/Zu6VfA2eUX+LN/NS0efQQEizrqVbVBw/kRD6hdIyvy9dmTaOP\nkGBZjf2NVNzPd8IPJs6jh5BgWaUtl1a+b+B7pMJuvpFqXsUXASHBunR/areptfcyRa/ii4CQ\nYGE6jyO9m+z5venzNIyQYGUNPrPh30HvctOn0UFIsKNl3uCLqmc4DCHBhhZ6WqxXPcPhCAm2\nE7rS02az6iF+gZBgN2VjvEd+q3qIXyIk2Mye/t7+P6keoh5Cgr3s7O4d38gLlFQgJNjK1jae\naSHVQ0RASLCTtcme21TPEBEhwUZeDiq8maouQoJ93O+Ne031DA0gJNjGfE8L3bs3qERIsInQ\nbz0dtqseokGEBHs4cLbnqO9VD9EwQoItlAzwDvlZ9RA6CAl2sLuH50LrvIovAkKCDWzL8lyt\negZ9hATr25DiuVP1DI0gJFjeqqD/WdUzNIaQYHWPeOPfVD1DlSfGdO485omIHyIkWNxCT8vP\nVc9Q6eBFCVcsW3ZFwkWRfupBSLC00GxPJ4u8iu/Olh+E332QGun7NUKClZWP9+T+qHqIat3m\nV72f3y3CBwkJFrZvkGeEVV7FVyyqt6avFxHuk0xIsK6iIzwRvyFRYpeo3nuxSeyq/1FCgmXt\naOu5XvUMtcpTH686eCy1vP5HCQlWtTHFu0z1DHVNy618st/PuZdF+CAhwaJejwu8rHqGw+zq\n1P+VPXtW9Y/4U0RCgjU97k202M1UtcJzvB6P95zCSB8jJFjSnz2tv1I9Q30l771XEvkjhAQr\n+q3oorPJ3IIICdZTfrbneCu/ii8CQoLllJ7sGX1A9RDNREiwmuIjPFeonqHZCAkWU9jOs0D1\nDM1HSLCWjSneR1XPEAVCgqW8Fgy+onqGaBASrORpX/InqmeICiHBQm7zZHyjeoboEBKsY57o\nYZVX8TUXIcEqQhNE/32qh4gWIcEiygaK8ZZ5FV+zERKsYc+RYrbqGWJASLCEnW09f1Y9QywI\nCVbwWYr3cdUzxISQYAGvBYNvqJ4hNoQE9Z70pXyqeoYYERKMsfPVzyPcbCei2zxtLHIz1egR\nEoyw8hjhFS1vaVJKvxVH7zV6HsMREgzwrH/mJwcK702f3PipoYvEKXZ7FV8EhAT59rWturHj\n+sZvqHVgsJhg+DwmICTI90JC9b12xl/SyJklPcR1ho9jBkKCfHf1rD64ebD+id9lWX6nZRMR\nEuS7p2bxybXDdM/7PMX3f8ZPYwpCgnzve7ZUvg/11f1321vB+LWmzGMCQoIBBg2p/CZpYfyX\nOic95Wux1aR5jEdIMMD2rp1vfHTx8Di958/d4elQZNpAhiMkGOHHmwa3yZ26UeeM2eIo276K\nLwJCggqh88RQ+76KLwJCggLlJ4lJqmeQi5Bgvn1HiXzVM0hGSDDdd22896qeQTZCgtm2pPhf\nUD2DdGaHFNq6oqBg1fZGziIkB3s9mGC1nZYSmBtS0ZxMUSn7Zt09UoTkXE/50hr7/1E7MjWk\nws6i+5T8hQuvP7+d6K33YBwhOdZtno4/qJ7BCKaGlBd4ovqofIlH7yZmhORUc0Xv/apnMISp\nIWVNrT0+r6POiYTkUBPEaSHVMxjD1JACt9Qe3xjUOZGQHKl8oLhU9QxGMTWknDovKh7XSedE\nQnKivd3ETapnMIypIc32LCqtOiq5QczTOZGQHGhXhvd+1TMYx9SQivuIlKFTZs6YPCRRDNJL\nhZCc57Nk/79Vz2Agcx9HKrs91xd+GCnQ/x7dO54RkuO8HUz4UPUMRjL9KUL7Nq9fv6UswgcO\nrl5xyGxCcpjHvWk23WnZREqea7d/47rSer/5ZUbaIYnip1ivASu5w5Pt8P9FzQ1p1ZBOI9/R\nXmonRIsleufxTztnmS36OOpVfBGYGtLbftHCm/R2i44XT0gTL+qcSEiOMlGMVj2C4UwNaWzW\nR9p3p2b3/lnTijqN0DmRkBzk4EnictUzGM/UkFr9seLNWvFA+Ph/0nVOJCTn+Lmr50+qZzCB\nqSH5H6x4Uyj+FT7+u1/nREJyjG8zvMtVz2AGU0Nqk1/x5lVxR/j4d210TiQkp/gsKbBC9Qym\nMDWkiemvlG3odVT2N5q2Ke0cnRMJySFeCyZtUj2DOUwN6dMUIUT6ppzEUwf4fe/qnEhIzvCY\nN32H6hlMYu7jSB+ff+KUz7SPT/CILv/UO4+QHGGRp4v9d1o2kZq7CO35Tv/jhOQEs0Tvpq5j\ntj9uxwWDnC3GqB7BRIQEQxw8Sfxa9QxmIiQYYW8XzyLVM5iKkGCAb1t7H1E9g7kICfJtSgq8\nqnoGkxESpFsRSPpU9QxmIyTI9g9v612qZzAdIUGyWzydXPi/HiFBrpniRKe/GjYSQoJU41z1\nMGwtQoJEB/qKWapnUIOQIM9P2Z7/VT2DIoQEaQpbeR9VPYMqhARZPkwIvqZ6BmUICZKscuHD\nsLUICXLc781w38OwtQgJUsz3dC1RPYNKhAQZLhUD3PgwbC1CQuxC48RY1TMoRkiIWVmuWx+G\nrUVIiNUP2S57NWwkhIQYfZXm3odhaxESYvN+QtBtr4aNhJAQk3/5Uz5XPYMVEBJi8YA3Y6fq\nGSyBkBCDfNHtZ9UzWAMhIXqXigEHVM9gEYSEaJUPFWeFVA9hFYSEKJXmijmqZ7AOQkJ0dnfw\n3K56BgshJETlPy3ddlNifYSEaLwXH3xD9QyWQkiIQoEv6RPVM1gLIaH57va0cfOrYSMhJBxu\n7W0zFjRyD5O5ostP5gxjH4SEuvae6z3unBP8Q//b8Cmhi8XJ+82byCYICXWd1/nDirdbcwc1\n+EjrgaFinLtfVR4RIaGO9z0fVL7fnvBcA2eUHC1mmzePfRAS6lhwXPXBmAY2Ke9sy8OwERES\n6phTs0ri8okRP765Ba+GjYyQUEcjfyO9HuRh2AYQEurQ/x6pwJe8ydx57IOQUJfeT+1u82Ty\natiGEBLqCj+OdG7kx5HmiR4/mj+QXRASDtfAMxvKzxIn7jN/GtsgJDRF6UDPOTwMq4OQ0ATF\n3cQVqmewNkJC43a09SxUPYPFERIatSHZ+5jqGayOkNCY1+OCr6iewfIICY14yNuCh2EbRUjQ\n97+ezK9Vz2ADhAQ9oSvFET+oHsIOCAk6ysd5BnBz76YgJDSspJ9nPA/DNgkhoUG7u3mmqZ7B\nLggJDfkyg4dhm4yQ0IAPk7wPqp7BPggJkb0YCK5WPYONEBIiuteT9IHqGeyEkBDJzZ42X6me\nwVYICfWFpnm66dxrFfUREuopG+45aa/qIWyGkPBLe/p6zmTHcjMREn6hMNsznR3LzUVIONym\ndM+fVM9gQ4SEw6xJ8D6kegY7IiTU9bQv8KLqGWyJkFDH3Z5kHoaNCiGh1vWejC2qZ7ApQkKN\n8kme7t+pHsKuCAnV9g7y9mPHcrQICVV29/SOY8dy1AgJlba190zlVeXRIySEfdzSc7PqGWyN\nkFBhVZx3ueoZ7I2QoGmP+wIvqJ7B5ggJ2kJP8jrVM9gdIble6BpPxmbVQ9geIbld2Thvpx2q\nh7A/QnK5PSf7jmfHcuwIyd12HuE9gx3LEhCSq33R1nspD8PKQEhu9m6y53eqZ3AIQnKxl+O8\nf1M9g1MQknst8wb+pXoGxyAk1/ofT1Lz/7dHAwjJpcqnejM+Uz2EgxCSO5WO8XVmx7JEhORK\nRX39x7NjWSZCcqMd3XxnsGNZKkJyoY2tfRdyc2+5CMl9Vid65qiewXEIyXUK/N67Vc/gPITk\nNos9vidVz+BAhOQuoeu9Sa+rHsKJCMlVDlzsS/9I9RCOREhuUnJaoDM7lg1BSC6yq2egNzuW\njUFI7rG1o384O5YNQkiusbalfxIPwxqFkNxiRbx3LjuWDUNILrHc5/2L6hmcjJDc4c9e/2Oq\nZ3A0QnKD8iu88S+rHsLZCMkFSs8OpLNj2ViE5HzF/QMd2bFsMEJyvB1HBXuzY9lohOR0n7QN\nnsKOZcMRksOtSfWfz45l4xGSsz0T9P2am3ubgJAc7T6fZ6HqGdyBkBwsdIPX/w/VQ7gEITlX\n+aX+hBdVD+EWhORYJSOC6exYNgshOdXuE+I7fK56CPcgJIf6skv8UexYNk/sIZVX/Kf0nfel\nvtSFkGK1ITNuEDuWTRRrSOVXnqNp27oIcbLMP/qEFKOVSYGz2LFsplhDmi9+q2mjPNOv9M6X\nNxQhxeghn38mD8OaKtaQep6tad948jRtaq68oQgpNou9vnzVM7hNrCElL9W0v4uVmrakpbyh\nCCkWobl+372qh3CdWENKqQjp/KQyTftLUpM+N7R1RUHBqu2NnEVI0Ss7Lxj/vOoh3Cfmf9pN\n0nYl/6riYFqPJnxm0ZxMUSn7Zt09V4QUtT2nx6eyY9l8sYZ0qxjQTryqacuDcxv/xMLOovuU\n/IULrz+/nehdpHMiIUWrsFdi+09VD+FGsYa0b0pC6p0V79v20gujWl7gieqj8iWe2TonElKU\nNnVIPJIdyyrIembDmqbcwzNrau3xeR11TiSk6LyTljCIHctKSAjpp43FTfzEwC21xzcGdU4k\npKg8Gx8/jh3LasQc0qt9hXhR08aubMIn5kyoPR7XSedEQorGMl9gKjf3ViTWkN4NppxREdJ3\nWcEmPGN/tmdRadVRyQ1ins6JhBSFBT6v3n+nMFSsIY3O/npn+G+kb7PHNf6JxX1EytApM2dM\nHpIoBumlQkjNVn55wLdU9RAuFmtIreZrlSFpt6Y15Wq35/rCDyMF+t9TrnceITXX3jHxAXYs\nKxRrSP6Hq0O6P9C0T963ef36LWURPvBlRtohiYI7sTXL7gFJLdixrFKsIXX4fXVIl+Q0+fPL\nN7wV4TlCB1evOGQ2fyM1y7YjkjM/VD2Eu8Ua0mVp68MhFf1OXNmEz3xrRsWbh9pU/OOu92t6\n5/FPu2b5uG1yD3YsqxVrSDs7+vuI3Nw4kb2r8U9cHUwOaU+K5HOvHOaN0/spHyE1xyspycez\nY1mxmB9H+nZ6q4q/YFpP/7YJnzgkc4umdc4prDh8J2GszomE1AxPBRPGsGNZNQnPbAjt2tKE\nv43CWlytaT+IOyqPp+m9fomQmm6xN24yD8MqZ+pdhJL+oGmlnqcrj2+K1zmRkJoqlO/3zWPH\nsnqxhHTiYY5r/BMHdq/4J8hJV4cPS3v31jmRkJqobFKc9zbVQ0CLLSRfWKDiOyRPxX9S9Z7N\nXe050effB9a3Xb53/zunib/pnEhITbNnRFKAHcuWEOs/7YoGzfhwn/bTmxNPa8rT9+9NEglH\n5wifT3h+q/fvEUJqkp3HJSf+W/UQqBRrSFNrntA9Oq8pn7pr0Rk5KXGt+s5ar3saITXFF11S\nM99XPQSqxBpSxt+rDxZlSJmnCiE1wbutUjuzY9kqYg0pbkH1wbVxUuapQkiNezmpRb+mPHgH\nU8Qa0nHt36t8/26m3k/hmouQGvWAP/l0ntlrHbGG9JxPdBs2dlg34XmiwfObj5Aas8AXfyE7\nli0k5gdk3xgRL4QIDnlJ2kgaITWmfHogMIube1uJhGc2HPxm89cHtJKdkiYKIyRdpecmev+k\neggcRtpThP7RNuZZahGSnqJBqYH6O5a3zezXpv81/PhBkZhD+u9dc2ZXuLx9irSZCEnXjl5p\nifV3LK9u0X/h47f2bLNBwUSIPaRtGVU38xb+m+QNRUg6NnZolb6m3u8Wt54dfqrI/glHRHoZ\nPwwXa0gXpPxllbjvpWvb88MGc6xObdUpwo7lJR2qAipOfNbkgVAp1pCyr9X2iYr/g/wg/U15\nQxFSgwri0np9E+H3L7mw+mDIDWaOgxqxhhS4p+JLhO+/8Ieh0mYipAbd6W1xasQdy5OmVR+M\nvMbEcXBIrCGl/1HTku+vOHg0VdZIGiE1IJQfSDw78o7lG06sPqXDPSYOhENiDWlc+9XagH4V\nf+ynZcobipAiOpAXH/x1Aw/DbvRVbelbmtTEl/1Drpjv/R3fV1smOv4qV1wgbyhCiqRkZKo/\nv8GP/j7xtv8c3PIH/93mDYQ6Yn4cad1ftdB1CcJzpswbQhFSfbv6puvtWA7dnSW8orPMZzyi\nGeQ8s2HfNrlreQipnq3dMxL0dyyHtr7KXSKViTWkZzfKm6UWIf3S2ow2aTIfYIBksYYUv6DB\n02JASL+wIjkzmx3LVhZrSKePNOLZ/IR0uOX+1sewY9nSYg1p1/kjHlm3pZK8oQjpcIt96ac0\ndU8v1Ig1JFFL3lCEVFf5jEAKO5atLtaQzrtoal41eUMRUh2lE5Lj2bFseabe+7vJCOmQ4sEt\nfexYtj5CsrYdvdv42bFsAzHfjuvQTfRPOnOhtG+ICanaJ9ltg+xYtoOYd8imCiHCm8rjgkLk\n7JA0FSFVWdO6fUt2LNtCrCHtHXvaSz9pe1cNn3zgx9t9sn7gQEiVnknIbsuOZXuINaQZp1Y9\nIHvwtBs07bIOkqYipLD7AllH8ew5m4g1pMwl1QdLO2naPQEpMxFSWCjfl3kiO5btIubn2tXc\nPOhPcZqWL+vedoSklU9LaDmWHcu2EWtIfbKqNh192ulIbW3mGElTEVLJ6BaJk7m5t33EGtL/\n+cSRYyaceaxH/F0bHNf8rxWZ60PafVKGnx3LdhLzA7KvDgvfRN934tOatuw9WVO5PaQve3T0\nsWPZVmQ8s6Hoi68k397T5SFtaJ8TZMeyvfAUIetZ2aJzMjuWbYaQLOehQE4WO5bthpCsZrEv\npws7lm2HkKwlNDfY9niWHNkPIVlK2cSU1kPZsWxDhGQle4a3SmLHsi0RkoUU5naIY8eyPRGS\ndWzK6eRjx7JNEZJlvNO6R7D+jmXYAyFZxbOJRyTV37EMmyAki1gW6N7qbdVDIGqEZA0L/F07\nR9ixDLsgJCsovzyhQ8Qdy7ALQrKAvWNSM0/9QfUUiAUhqbd7YNuWDexYhl0QknLbjsyJn8nD\nsDZHSKp93OGoQL7qIRArQlLsldRe/ntUD4GYEZJaT8X3StTfsQxbICSlFvt6pbNj2QkISaFQ\nfvDIHHYsOwIhqVM2KakLO5YdgpCU2TOidVb/71VPATkISZWdfTqksWPZMQhJkS+6HZFwCTuW\nHYOQ1Hg3IzfAjmUHISQlXk7p679b9RCQiJBUeCBwQhw7lh2FkBRY4O/HjmWHISTTlU+P682O\nZachJLOVnpvanR3LjkNIJisa1D77BHYsOw4hmWvHsV1bs2PZgQjJVBs75iZfzM29HYiQzLS6\nZb/ALHYsOxEhmaggfrDvf1UPAUMQknnu9A1kx7JTEZJZQvnBk9ix7FiEZJIDeUn92LHsXIRk\njpKRmceyY9nBCMkUu/pmd+rHjmUHIyQzbO3esy07lh2NkEywNrNvC3YsOxshGW9FypB4diw7\nHCEZbnngFHYsOx4hGW2xf5T/76qHgNEIyVjlM+KGJr2gegoYjpAMVTqh5QB2LLsBIRmpeHBW\nLjuWXYGQDLSj9xFd2bHsDoRknE+ye7djx7JLEJJh1rQenP4rdiy7BCEZ5ZmE0QnsWHYNQjLI\nfYFx7Fh2EUIyRCjfP54dy25CSEYon5Y0ih3LrkJIBigZnX5qGjuWXYWQ5Nt9Uk4/diy7DCFJ\n92WP3sccs131FDAXIcm2oX3/DuxYdh1Ckmxli5Gt2bHsPoQk10OBsYnsWHYhQpJqsW8iO5Zd\niZAkCs2Nm8yOZXciJHnKJrY8L+4J1VNACUKSZs/wrDPYsexWhCRLYW6PwexYdi1CkmRTTt9e\n7Fh2L0KS453Wp3dlx7KLEZIUzyaemTmGHcsuRkgyLAtcnMKOZVcjJAkW+KeyY9nlCClm5Zcn\nXsaOZbcjpFjtHZN+QfBR1VNAMUKK0e6BOePZsQxCis22I485lR3LIKTYfNxh0AnsWAYhxeaV\n1JHd2bEMjZBi8lT8Be2H/qh6ClgBIUVvse+yVHYsoxIhRSuUH/wNO5ZRjZCiVDYp+UrfAtVT\nwCoIKTp7RmRdzo5lHEJIUdnZp+t57FhGLUKKxhfd+g1jxzLqIKQovJcxYgA7llEXITXfyynn\n9OjJjmXUZXZIoa0rCgpWNXaLeUuH9EAgryM7lnE4c0MqmpMpKmXfrHt7bCuHtMB/TSt2LOMX\nTA2psLPoPiV/4cLrz28nehfpnGjdkMqnx13DjmXUY2pIeYGa+5CWL/HM1jnRsiGVnpt2HTuW\nUZ+pIWVNrT0+r6POiVYNqWhQzhx2LCMCU0MK3FJ7fGNQ50SLhrTj2GMuYscyIjE1pJwJtcfj\nOumcaM2QNnY85Sx2LCMiU0Oa7VlUWnVUcoPQWyNkyZBWtxw7sN0G1VPAmkwNqbiPSBk6ZeaM\nyUMSxSC9VKwYUkF8Xu+j2bGMyMx9HKns9lxf+GGkQP97yvXOs2BId/pmZLNjGQ0x/SlC+zav\nX7+lLMIHiq687JBBVgsplB+8iR3LaJia59r9OO/Ter9n5ZAO5CXfyI5l6FAT0tfiOd2PW+yf\ndiUjs25ixzL0mPvMhhrniwhm+/YAABCMSURBVOF5eTonWiukXX27/J4dy9BlakjiMDonWiqk\nrd2Pn86OZegzNaTf+HJfKg77RDxWXKxzopVCWps59JyWr6meAhZn7vdIa3M908Ov5LHR90gr\nUiYNY8cyGmPyDxsOLEho95SdQloeuPQ4diyjUab/1O6LoWLsdtuEtNh/U7cTvlM9BaxPwY+/\n709PzrdHSOUz4uZnDrPEKLA4FY8jfTtR2CKk0glpf27BjmU0hZoHZF+Ys0n345YIqXhwu1vZ\nsYym4XZcDdnR+5gb2bGMJiKkBnySPWAWO5bRVIQU2ZrW4yazYxlNRkgRPZNw+Qh2LKPpCCmS\n+wLXDOiyWekIsBdCqi+U719wBDuW0RyEVE/5tKS/smMZzUNIv1QyutVfUi/gYVg0CyH9wu6T\nOv+FHctoLkI63Jc9+t3KjmU0GyEdZkP7odeyYxnNR0h1rWxxYR47lhEFQqrjocCVo9PZsYwo\nEFKtxb6bB3b6TMGFYX+EVCM0N+7uXuxYRnQIqVrZxJYPdBzCjmVEh5Cq7Bne9kF2LCNqhFSp\nMPeoe9mxjOgRUtimnP53smMZMXBnSPveX1P3u6F3Wo/7IzuWEQs3hlScFxBeMfzQ642eTbzk\nskT92xoB+lwYUslxRz9f/PPbI1pVl7QscP257FhGbFwY0k3Zu8PvyoePqvzlAv+fB7NjGTFy\nYUhHVt9j601fRVDllyc+yI5lxMx9IYUCK6oOfhLrtL1j0h9mxzJi576QtOT/q3r/rdi4e2Cn\nJzLYsYzYuTCkITOr3j+UuvnIXo8ks2MZErgwpIK4VeF32zpM7XDaUnYsQwoXhqTN8198z4NX\npR6fes4idixDDjeGpP37nO4dz5geP+u37FiGJK4MKWyx79aJ7FiGLC4NKZQfXDa87QfGXgQu\n4s6QyiYlP8qOZUjkypD2jMh6rjs7liGRG0Pa2adrQeawnwy8AlzHhSF90e2Ep9mxDLncF9J7\nGWOXsWMZkrkupJdTptzuW2TUV4dbuS2kBwLz5rFjGdK5LKQF/iVTk18y5mvDzVwVUvn0uIdH\nZq034kvD5dwUUum5af9ixzIM4aKQigblrOzBjmUYwj0h7Ti250p2LMMgrglpY8dTn2fHMozi\nlpBWtzz7cXYswzAuCakgftZdvny5XxOo5Y6Q7vTdkM+OZRjIDSGF8oMPTmPHMozkgpAO5CX/\ncww7lmEo54dUMjJr9cnsWIaxHB/Srr5d3mTHMozm9JC2dj/+DXYsw3AOD2lt5rBV7FiG8Zwd\n0oqUi59OmMHDsDCco0NaHpi1jB3LMIOTQ1rsX7KAHcswhXNDKp8R9+gV8U9JmAZolGNDKp2Q\nturctDdkTAM0yqkhFQ9u9yY7lmEah4a0o/cx63LZsQzTODOkT7IHrGHHMkzkyJDWtD7r9Ywz\n2bEM8zgxpGcSZv47ZQo7lmEiB4Z0XyB/OTuWYS7HhRTK99+7mB3LMJnTQiqflvT81XGPS50G\naJTDQioZ3eo1dizDfM4KafdJnT84gx3LMJ+jQvqyR78NfY78j+xpgEY5KaQN7Yd+xI5lKOGg\nkFa2uGgNO5ahhnNCeigwawU7lqGIY0Ja7Fv0MDuWoYpDQgrNjXtsMTuWoYwzQiqb2HJ1PjuW\noY4jQtozvO06dixDJSeEVJh71Kcj27BjGQo5IKRNOf03s2MZatk/pHdaj/u0R192LEMp24f0\nbOLUD9ufxo5lqGX3kJYF8lenXlBm6DRAo2we0gL/3wrYsQz1bB1S+eWJz/+FHcuwADuHtHdM\n+hv5/vsMnwZolI1D2j2w0yfsWIY12DekbUf22jo+vfnTAwawbUgfdzjtK3YswyrsGtIrqed8\neSw7lmEVNg3pqfhZH7NjGdZhz5AW+/60hh3LsBA7hhTKDz7yLDuWYSU2DKlsUvJL97NjGZZi\nv5D2jMh6f4H/b4bPADSD7ULa2afrZ9Pj2LEMa7FbSF90O+GbCexYhtXYLKT3MsYWDm73keED\nAM1jr5BeTpmynR3LsCBbhfRAYPLCzF68qhzWY6eQFvjaCV+i6Mn9gmA59gmpfHow8bTkKQd2\nTkr93PABgOaxTUil56ad0rNyx/LB4eMNHwBoHruEVDQo5+OA76+Vx8/Fs3MCFmOTkHYc23P7\ndLG46hefiULDJwCaxR4hbex46ncTU8Waql+97SkxfAKgWWwR0uqWZ//3jLYf9Jlb9cur+xg+\nANA8dgipIH5WYZ+uX2hPBgsqfxnkmXawGhuEdKcvf2v348M7luf7Bs+dO9g33/DrA81k+ZBC\n+cGH19XsWP5o3qhR83imHazH6iEdyEt+cVWLi/h5N6zN4iGVjMxa/3CQHcuwOmuHtKtvl813\nsGMZ1mfpkLZ2P34XO5ZhB1YOaW3msKI8dizDDiwc0oqUi4vZsQx7sG5IywOzvj+pMzuWYQuW\nDWmxf8k2dizDLqwa0mVxj3/MjmXYhlVDavnG6tTxpYZfCJDDqiG9x45l2IlVQ7qNHcuwE7ND\nCm1dUVCwqrE70y0VgQdjuAhgNnNDKpqTKSpl3/yz3nlLRUHU1wAUMDWkws6i+5T8hQuvP7+d\n6F2kc2KTtpoD1mFqSHmBJ6qPypd4ZuucSEiwGVNDyppae3xeR50TCQk2Y2pIgVtqj28M6pxI\nSLAZU0PKmVB7PK6TzomEBJsxNaTZnkXVT1YouUHM0zmRkGAzpoZU3EekDJ0yc8bkIYlikF4q\nhASbMfdxpLLbc33hh5EC/e8p1zuPkGAzpj9FaN/m9eu3lEX4wMHVKw6ZTUiwF2XPtSva9ovf\n+DIj7ZBkofvEB8BqzA3po1E5Jy+p+kfdPL2v8paI9HcWYFmmhvRmnEgMiFMqnxxESHASU0Ma\nHXgmVHp74PjwVhZCgpOYGlLHC8NvVwVHlRMSnMXcpwjdUPnuQTGLkOAspobU4cyq99eJhYQE\nRzE1pFmeuyrXSoQmi6t+TUhwEFND+j5bnF55EJolBCHBQcx9HOm/V15VffR012hCOrjugQfW\ncXMhWI817yLUQEjre4pOnURPbgcOy7FTSJ+lTtqpaTsnpX5u+ABA89gppLOHV27uOzh8vOED\nAM1jo5D2xz9fdfBcPCtlYTE2CqlQVP+T7jNRaPgEQLPYKKQ9Yk3VwdueEsMnAJrFRiFpfeZW\nvb+6j+EDAM1jp5CeDFbeyLgg+JThAwDNY6eQtPm+wXPnDvbNN/z6QDPZKiTto3mjRs37yPDL\nA81lr5AAiyIkQAJCAiQgJEACQgIkICRAAkICJCAkQAJCAiQgJEACQgIkICRAAkICJCAkQAJC\nAiQgJEACQgIksGZIawVgM2ub/cfc+JC0D9c1YMTghyxkalvVE9R1q1iqeoS64uaonqCuYyY3\n9EdKkg+b/6fchJAaNGWKwovXs7SH6gnq+kjsVj1CXUnPq56grtOvVz1BfYRUg5B0EFJjCKkG\nIekgpMYQUg1C0kFIjSGkGoSkg5AaQ0g1CEkHITWGkGoQkg5Cagwh1SAkHYTUGEKqQUg6CKkx\nhFSDkHQQUmNUhnTZZQovXs+yXqonqOtTz0+qR6gr7WXVE9Q16ibVE9SnMqSiIoUXr6fsa9UT\nHGar6gEOs+2g6gnq2mXBdakqQwIcg5AACQgJkICQAAkICZCAkAAJCAmQgJAACQgJkICQAAkI\nCZCAkAAJCAmQgJAACQgJkICQAAnUhVQ0JzvYadwaZdev7zciT/UINV4YnJx66mrVU1T79MIs\nf+uz3lU9RoX913r7Vh0Vz84JtM0rVDtOXcpC2t1JjP7DBf74DaoGqGetzzIhLRNdr786I9j8\nLT1G2JiSfsODf8zyr1I9iLapT0p1SGV9xPhbpgY6W+c11spCmiHuqnj7tBilaoBfOpDb2yoh\nfZt8XImmbUm+UvUglSaJV7Tw3ViGqB7kx4R+W+KqQrpd/Kni7eNijtqJ6lAW0lVD91e8DSXk\nqBrglxZ4XrRKSIvES+F3IdVzVDlRhP+X0lp0Uj3I7jn7teqQclNKw++6ZVrkvyPlP2woDQxU\nO8AhXyRML7ZKSGck7NdKf1Q9RY3J4uOKt//1jlQ9SFhVSPt8Qyt/NUVY5h4xikO6o/IfeFYw\ntO0Plgkp5+j3B3pE1/tVz1FlU1rvN3a+PzTxHdWDhFWFtFlU3RIxX6xQOk0dakN6NXjyAaUD\nHHK/eEqzTEgpOW3nPHVHtviH6kGqfHa0ECL7bdVjVKoKab2YUfmrRaJA6TR1KA3pkbg+Frmf\n6LfpYzTrhBQnlle8LUzOKlc9Sdimzh1ve+7vx6Ra4v/8a0KaWfmrheIZpdPUoTCk0A1ihFVu\nJzox+SsLhdTKtzf87lxhiccG+id+U/F2b/v2+1VPotWEtEVMrvzV9WKlymHqUhdSaKr4tSX+\nH7fCC+IPX3/99Sfi/K8t8S1+X1/ln9krhRUeSNrjObXy/cVio+JJwqpCKvNX/Sz+fPGV0mnq\nUBfSbHGrsmv/0hxRY57qUcJmispv7IeL7aonqfCdGFD5foJYp3iSsOoff5+YGP47+2C7jmqn\nqUNZSE+L2aouXd+m58IeE8Of+1T1KGHrPKeVatpa77GqB6nUOfB5xdvi9BalqifRDoV0j7ix\n4u3dwjp301cWUlfx63mVrPMsD8t8j6RdJXJvmpYQXK16jkoF3la/X3ZLZ7FE9SCvVvxp8WVV\nvPleKx8kxt000dNrr+qZDlEW0qF/TG1TNUE91gkptLR3fOqo91SPUe3tszL8aaf/S/UY2vya\nPzJbKr5zuzon0H6GRX7mG8bLKAAJCAmQgJAACQgJkICQAAkICZCAkAAJCAmQgJAACQgJkICQ\nAAkICZCAkAAJCAmQgJAACQgJkICQAAkICZCAkAAJCAmQgJAACQgJkICQAAkICZCAkAAJCAmQ\ngJAACQgJkICQAAkICZCAkAAJCAmQgJAACQjJBvLCO+pgaYRkA4RkfYRkA4RkfYRkA4RkfYRk\nA3li64LOwY43hyqO/zOlXaDV2HcrjkaL4oq3B8RQTTtPfHt6/LNa6cJjWyT3WnhQ8biuREg2\nkCcuOW7+wo7iEU3bnpk894Fb2se9cVhIF4lJI2/9WLtETLp76a/EDNXzuhEh2UCeOHm/pq0X\nZ2raZFFQ8RubfP0PC2mqGB7+ayhxQPjs34wvVzqtOxGSDeSJZyrehnz9tFBqm/C/77STxfd1\nQ8oT/wj/bmq7b1WO6WqEZAN5YmP4XeoxWqE4rfp33j48pHXh371DtLho2Tfq5nQzQrKB6p/a\nVYS0RYyt/J2ZYsXhIVX9WG/VWUnCM+o/ygZ1MUKygdqQdlb/jXSJeKc6pL11Q9K00hWTPd3K\nFM3pZoRkA7UhaeltK79HOtFTrJ0lvqs42nh4SBWmi3eVTOluhGQDdUK6tPLnDh94hoaDea3i\n8JrakNa0Wx4+bYZ4X+GsbkVINlAnpB1Zyb9bflNmykcV3Yi+r7xz3aCUQyEd6BmctuSvU70n\nhxTP60aEZAN1QtK2X9LWnzlxU/jXDxyd0OayH9qdfOiE3Vd1TUztfesehaO6FiEBEhASIAEh\nARIQEiABIQESEBIgASEBEhASIAEhARIQEiABIQESEBIgASEBEhASIAEhARIQEiABIQESEBIg\nASEBEhASIAEhARIQEiABIQESEBIgASEBEhASIAEhARIQEiABIQESEBIgASEBEvw/T/Wmm3C1\n4MUAAAAASUVORK5CYII=",
      "text/plain": [
       "plot without title"
      ]
     },
     "metadata": {},
     "output_type": "display_data"
    }
   ],
   "source": [
    "plot(hours, grades)\n",
    "abline(lm(grades~hours))\n",
    "abline(beta0, beta1)"
   ]
  },
  {
   "cell_type": "markdown",
   "metadata": {},
   "source": [
    "But we said Gradient Descent should get to the optimal solution! Maybe we just stopped too early?"
   ]
  },
  {
   "cell_type": "code",
   "execution_count": 22,
   "metadata": {},
   "outputs": [],
   "source": [
    "alpha = 0.01\n",
    "epsilon = 0.01\n",
    "\n",
    "\n",
    "beta0 <- 0\n",
    "beta1 <- 10\n",
    "magGradient <- Inf\n",
    "i <- 0"
   ]
  },
  {
   "cell_type": "code",
   "execution_count": 23,
   "metadata": {},
   "outputs": [
    {
     "name": "stdout",
     "output_type": "stream",
     "text": [
      "Iteration: 2731 New Beta 0: 7.19768869553379 New Beta1: 8.89279108480776 magnitude: 0.00998428927694244 \n"
     ]
    }
   ],
   "source": [
    "while(magGradient > epsilon) {\n",
    "    i <- i+1\n",
    "\n",
    "ypred <- beta0 + beta1*hours\n",
    "\n",
    "MSE <- sum(( grades - ypred )^2/2)/(length(ypred))\n",
    "\n",
    "diffB0 <- sum((ypred - grades))/length(ypred)\n",
    "\n",
    "diffB1 <- sum((ypred - grades)*hours)/length(ypred)\n",
    "\n",
    "magGradient <- sqrt(diffB0^2 + diffB1^2)\n",
    "\n",
    "beta0 <- beta0 - (alpha * diffB0)\n",
    "\n",
    "beta1 <- beta1 - (alpha * diffB1)\n",
    "\n",
    "}\n",
    "\n",
    "\n",
    "cat(paste('Iteration:', i, 'New Beta 0:', beta0, 'New Beta1:', beta1, 'magnitude:', magGradient,'\\n'))"
   ]
  },
  {
   "cell_type": "code",
   "execution_count": 24,
   "metadata": {},
   "outputs": [
    {
     "data": {
      "text/plain": [
       "\n",
       "Call:\n",
       "lm(formula = grades ~ hours)\n",
       "\n",
       "Coefficients:\n",
       "(Intercept)        hours  \n",
       "      7.253        8.886  \n"
      ]
     },
     "metadata": {},
     "output_type": "display_data"
    }
   ],
   "source": [
    "lm(grades~hours)"
   ]
  },
  {
   "cell_type": "code",
   "execution_count": 26,
   "metadata": {},
   "outputs": [
    {
     "data": {
      "image/png": "iVBORw0KGgoAAAANSUhEUgAAA0gAAANICAIAAAByhViMAAAACXBIWXMAABJ0AAASdAHeZh94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\ndx3eLX2ntjHDpwA0anUXu7i4OH9//7S0tE