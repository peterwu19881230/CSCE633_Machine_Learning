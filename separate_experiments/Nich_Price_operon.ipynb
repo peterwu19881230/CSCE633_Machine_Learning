{
 "cells": [
  {
   "cell_type": "markdown",
   "metadata": {},
   "source": [
    "# Nich + Price"
   ]
  },
  {
   "cell_type": "markdown",
   "metadata": {},
   "source": [
    "## Prep data"
   ]
  },
  {
   "cell_type": "code",
   "execution_count": 21,
   "metadata": {},
   "outputs": [
    {
     "name": "stdout",
     "output_type": "stream",
     "text": [
      "/Users/peterwu/Dropbox/Nichols_Data_mining\n"
     ]
    }
   ],
   "source": [
    "%cd /Users/peterwu/Dropbox/Nichols_Data_mining/\n",
    "import numpy as np\n",
    "import pandas as pd\n",
    "phenotype=pd.read_csv('Data/Nich_Price_quantitative.csv',header=None,index_col=0)\n",
    "#Note: the first 324 conditions are from Nichols, the last 162 are from Price"
   ]
  },
  {
   "cell_type": "code",
   "execution_count": 22,
   "metadata": {},
   "outputs": [],
   "source": [
    "phenotype=phenotype.reset_index() #now the ids are on the 1st column (type: int64)\n",
    "name=['ids']\n",
    "name.extend(list(range(1,486+1)))\n",
    "name\n",
    "phenotype.columns=name"
   ]
  },
  {
   "cell_type": "code",
   "execution_count": 23,
   "metadata": {},
   "outputs": [],
   "source": [
    "import pyreadr\n",
    "result = pyreadr.read_r('Data/sourced/id_allAttributes.RData')\n",
    "id_allAttributes=result['id_allAttributes']\n",
    "id_allAttributes=id_allAttributes.astype({'ids': 'int64'})"
   ]
  },
  {
   "cell_type": "code",
   "execution_count": 24,
   "metadata": {},
   "outputs": [],
   "source": [
    "df=phenotype.merge(id_allAttributes,on=\"ids\",how='left')"
   ]
  },
  {
   "cell_type": "code",
   "execution_count": 25,
   "metadata": {},
   "outputs": [
    {
     "data": {
      "text/html": [
       "<div>\n",
       "<style scoped>\n",
       "    .dataframe tbody tr th:only-of-type {\n",
       "        vertical-align: middle;\n",
       "    }\n",
       "\n",
       "    .dataframe tbody tr th {\n",
       "        vertical-align: top;\n",
       "    }\n",
       "\n",
       "    .dataframe thead th {\n",
       "        text-align: right;\n",
       "    }\n",
       "</style>\n",
       "<table border=\"1\" class=\"dataframe\">\n",
       "  <thead>\n",
       "    <tr style=\"text-align: right;\">\n",
       "      <th></th>\n",
       "      <th>annot</th>\n",
       "    </tr>\n",
       "  </thead>\n",
       "  <tbody>\n",
       "    <tr>\n",
       "      <th>TU00305</th>\n",
       "      <td>14</td>\n",
       "    </tr>\n",
       "    <tr>\n",
       "      <th>TU363</th>\n",
       "      <td>14</td>\n",
       "    </tr>\n",
       "    <tr>\n",
       "      <th>TU00310</th>\n",
       "      <td>12</td>\n",
       "    </tr>\n",
       "    <tr>\n",
       "      <th>TU0-13499</th>\n",
       "      <td>12</td>\n",
       "    </tr>\n",
       "    <tr>\n",
       "      <th>TU0-14374</th>\n",
       "      <td>12</td>\n",
       "    </tr>\n",
       "    <tr>\n",
       "      <th>TU0-13913</th>\n",
       "      <td>12</td>\n",
       "    </tr>\n",
       "    <tr>\n",
       "      <th>TU0-14373</th>\n",
       "      <td>12</td>\n",
       "    </tr>\n",
       "    <tr>\n",
       "      <th>TU00448</th>\n",
       "      <td>12</td>\n",
       "    </tr>\n",
       "    <tr>\n",
       "      <th>TU686</th>\n",
       "      <td>12</td>\n",
       "    </tr>\n",
       "    <tr>\n",
       "      <th>TU00201</th>\n",
       "      <td>12</td>\n",
       "    </tr>\n",
       "    <tr>\n",
       "      <th>TU0-14039</th>\n",
       "      <td>11</td>\n",
       "    </tr>\n",
       "  </tbody>\n",
       "</table>\n",
       "</div>"
      ],
      "text/plain": [
       "           annot\n",
       "TU00305       14\n",
       "TU363         14\n",
       "TU00310       12\n",
       "TU0-13499     12\n",
       "TU0-14374     12\n",
       "TU0-13913     12\n",
       "TU0-14373     12\n",
       "TU00448       12\n",
       "TU686         12\n",
       "TU00201       12\n",
       "TU0-14039     11"
      ]
     },
     "execution_count": 25,
     "metadata": {},
     "output_type": "execute_result"
    }
   ],
   "source": [
    "annot='operon'\n",
    "id_annot=df[['ids',annot]].drop_duplicates()\n",
    "id_annot.columns=['ids','annot']\n",
    "id_annot_table=pd.DataFrame(id_annot.iloc[:,1].value_counts())\n",
    "id_annot_table.loc[id_annot_table.annot>=10,:]"
   ]
  },
  {
   "cell_type": "code",
   "execution_count": 26,
   "metadata": {},
   "outputs": [
    {
     "data": {
      "text/plain": [
       "TU00305      14\n",
       "TU0-13499    12\n",
       "TU00201      12\n",
       "Name: annot, dtype: int64"
      ]
     },
     "execution_count": 26,
     "metadata": {},
     "output_type": "execute_result"
    }
   ],
   "source": [
    "id_selected=id_annot.query('annot in [\"TU00305\",\"TU00201\",\"TU0-13499\"]').sort_values(by=['annot'])\n",
    "id_selected.annot.value_counts()"
   ]
  },
  {
   "cell_type": "code",
   "execution_count": 27,
   "metadata": {},
   "outputs": [
    {
     "data": {
      "text/plain": [
       "0"
      ]
     },
     "execution_count": 27,
     "metadata": {},
     "output_type": "execute_result"
    }
   ],
   "source": [
    "#Do these pathways have mutually exclusive ids? =>yes\n",
    "sum(id_selected.ids.value_counts()!=1)"
   ]
  },
  {
   "cell_type": "code",
   "execution_count": 28,
   "metadata": {},
   "outputs": [],
   "source": [
    "id_selected_phenotype=id_selected.merge(phenotype,on=\"ids\",how='left')\n",
    "X=id_selected_phenotype.iloc[:,2:]\n",
    "#normalize the features\n",
    "from sklearn import preprocessing\n",
    "min_max_scaler = preprocessing.MinMaxScaler()\n",
    "X = pd.DataFrame(min_max_scaler.fit_transform(X))\n",
    "X_Nich_only=X.iloc[:,0:324]\n",
    "\n",
    "y=np.array(id_selected.annot)\n",
    "#To ensure y labels are interpreted correctly, I converted them to 0~5\n",
    "#tf.keras.utils.to_categorical has this problem: if y=[6,9,10], there will be dummy variables 0~10, not just 0~2 (https://stackoverflow.com/questions/41494625/issues-using-keras-np-utils-to-categorical/43314437)\n",
    "map_={'TU0-13499':0,'TU00201':1,'TU00305':2}\n",
    "y=np.array([map_[class_] for class_ in y])"
   ]
  },
  {
   "cell_type": "markdown",
   "metadata": {},
   "source": [
    "## Run ML"
   ]
  },
  {
   "cell_type": "code",
   "execution_count": 29,
   "metadata": {},
   "outputs": [],
   "source": [
    "#source the self-defined ML functions\n",
    "%run machine_learning/ml_inner_cross_val.py"
   ]
  },
  {
   "cell_type": "markdown",
   "metadata": {},
   "source": [
    "### Supervised learning"
   ]
  },
  {
   "cell_type": "code",
   "execution_count": 30,
   "metadata": {},
   "outputs": [],
   "source": [
    "cv=3\n",
    "test_size=0.2\n",
    "random_state=101"
   ]
  },
  {
   "cell_type": "code",
   "execution_count": 31,
   "metadata": {},
   "outputs": [
    {
     "name": "stdout",
     "output_type": "stream",
     "text": [
      "Best hyper-parameters: {}\n",
      "Average accuracy, precision=  0.875 0.90625\n",
      "Best hyper-parameters: {}\n",
      "Average accuracy, precision=  0.75 0.75\n"
     ]
    },
    {
     "name": "stderr",
     "output_type": "stream",
     "text": [
      "/Users/peterwu/opt/anaconda3/envs/R_and_python/lib/python3.7/site-packages/sklearn/model_selection/_search.py:814: DeprecationWarning: The default of the `iid` parameter will change from True to False in version 0.22 and will be removed in 0.24. This will change numeric results when test-set sizes are unequal.\n",
      "  DeprecationWarning)\n",
      "/Users/peterwu/opt/anaconda3/envs/R_and_python/lib/python3.7/site-packages/sklearn/model_selection/_search.py:814: DeprecationWarning: The default of the `iid` parameter will change from True to False in version 0.22 and will be removed in 0.24. This will change numeric results when test-set sizes are unequal.\n",
      "  DeprecationWarning)\n"
     ]
    }
   ],
   "source": [
    "my_logistic_regression(X,y,cv=cv)\n",
    "my_logistic_regression(X.iloc[:,0:324],y,cv=cv)"
   ]
  },
  {
   "cell_type": "code",
   "execution_count": 32,
   "metadata": {},
   "outputs": [
    {
     "name": "stdout",
     "output_type": "stream",
     "text": [
      "Best hyper-parameters: {}\n",
      "Average accuracy, precision=  0.5 0.47916666666666663\n",
      "Best hyper-parameters: {}\n",
      "Average accuracy, precision=  0.5 0.5\n"
     ]
    },
    {
     "name": "stderr",
     "output_type": "stream",
     "text": [
      "/Users/peterwu/opt/anaconda3/envs/R_and_python/lib/python3.7/site-packages/sklearn/model_selection/_search.py:814: DeprecationWarning: The default of the `iid` parameter will change from True to False in version 0.22 and will be removed in 0.24. This will change numeric results when test-set sizes are unequal.\n",
      "  DeprecationWarning)\n",
      "/Users/peterwu/opt/anaconda3/envs/R_and_python/lib/python3.7/site-packages/sklearn/model_selection/_search.py:814: DeprecationWarning: The default of the `iid` parameter will change from True to False in version 0.22 and will be removed in 0.24. This will change numeric results when test-set sizes are unequal.\n",
      "  DeprecationWarning)\n"
     ]
    }
   ],
   "source": [
    "param_grid={}\n",
    "my_decision_tree(X,y,cv,param_grid)\n",
    "my_decision_tree(X.iloc[:,0:324],y,cv,param_grid)"
   ]
  },
  {
   "cell_type": "code",
   "execution_count": 13,
   "metadata": {},
   "outputs": [
    {
     "name": "stderr",
     "output_type": "stream",
     "text": [
      "/Users/peterwu/opt/anaconda3/envs/R_and_python/lib/python3.7/site-packages/sklearn/model_selection/_search.py:814: DeprecationWarning: The default of the `iid` parameter will change from True to False in version 0.22 and will be removed in 0.24. This will change numeric results when test-set sizes are unequal.\n",
      "  DeprecationWarning)\n"
     ]
    },
    {
     "name": "stdout",
     "output_type": "stream",
     "text": [
      "Best hyper-parameters: {'criterion': 'gini', 'max_depth': 5, 'n_estimators': 200}\n",
      "Average accuracy, precision=  1.0 1.0\n"
     ]
    },
    {
     "name": "stderr",
     "output_type": "stream",
     "text": [
      "/Users/peterwu/opt/anaconda3/envs/R_and_python/lib/python3.7/site-packages/sklearn/model_selection/_search.py:814: DeprecationWarning: The default of the `iid` parameter will change from True to False in version 0.22 and will be removed in 0.24. This will change numeric results when test-set sizes are unequal.\n",
      "  DeprecationWarning)\n"
     ]
    },
    {
     "name": "stdout",
     "output_type": "stream",
     "text": [
      "Best hyper-parameters: {'criterion': 'gini', 'max_depth': 1, 'n_estimators': 50}\n",
      "Average accuracy, precision=  0.5 0.65\n"
     ]
    }
   ],
   "source": [
    "max_depth = [1,5,10,100]\n",
    "criterion=['entropy','gini']\n",
    "n_estimators=[10,25,50,100,200] #this can possibly be set to a much higher value but it would take lots of time\n",
    "param_grid={'criterion':criterion,'max_depth':max_depth,'n_estimators':n_estimators}\n",
    "\n",
    "my_random_forest(X,y,cv,param_grid,n_jobs=-1)\n",
    "my_random_forest(X.iloc[:,0:324],y,cv,param_grid,n_jobs=-1)"
   ]
  },
  {
   "cell_type": "code",
   "execution_count": 14,
   "metadata": {},
   "outputs": [
    {
     "name": "stderr",
     "output_type": "stream",
     "text": [
      "/Users/peterwu/opt/anaconda3/envs/R_and_python/lib/python3.7/site-packages/sklearn/model_selection/_search.py:814: DeprecationWarning: The default of the `iid` parameter will change from True to False in version 0.22 and will be removed in 0.24. This will change numeric results when test-set sizes are unequal.\n",
      "  DeprecationWarning)\n"
     ]
    },
    {
     "name": "stdout",
     "output_type": "stream",
     "text": [
      "Best hyper-parameters: {'max_depth': 1, 'n_estimators': 100}\n",
      "Average accuracy, precision=  1.0 1.0\n"
     ]
    },
    {
     "name": "stderr",
     "output_type": "stream",
     "text": [
      "/Users/peterwu/opt/anaconda3/envs/R_and_python/lib/python3.7/site-packages/sklearn/model_selection/_search.py:814: DeprecationWarning: The default of the `iid` parameter will change from True to False in version 0.22 and will be removed in 0.24. This will change numeric results when test-set sizes are unequal.\n",
      "  DeprecationWarning)\n"
     ]
    },
    {
     "name": "stdout",
     "output_type": "stream",
     "text": [
      "Best hyper-parameters: {'max_depth': 1, 'n_estimators': 400}\n",
      "Average accuracy, precision=  1.0 1.0\n"
     ]
    }
   ],
   "source": [
    "n_estimators = [5,10,15,20,50,100,200,400]\n",
    "max_iter=10000\n",
    "max_depth=[1,2,3,10,20,50]\n",
    "param_grid={'n_estimators':n_estimators,'max_depth':max_depth}\n",
    "\n",
    "my_boosting(X,y,cv,param_grid)\n",
    "my_boosting(X.iloc[:,0:324],y,cv,param_grid)"
   ]
  },
  {
   "cell_type": "code",
   "execution_count": 15,
   "metadata": {},
   "outputs": [
    {
     "name": "stderr",
     "output_type": "stream",
     "text": [
      "/Users/peterwu/opt/anaconda3/envs/R_and_python/lib/python3.7/site-packages/sklearn/model_selection/_search.py:814: DeprecationWarning: The default of the `iid` parameter will change from True to False in version 0.22 and will be removed in 0.24. This will change numeric results when test-set sizes are unequal.\n",
      "  DeprecationWarning)\n"
     ]
    },
    {
     "name": "stdout",
     "output_type": "stream",
     "text": [
      "Best hyper-parameters: {'C': 100, 'degree': 3, 'kernel': 'poly'}\n",
      "Average accuracy, precision=  0.875 0.90625\n",
      "Best hyper-parameters: {'C': 1, 'degree': 1, 'kernel': 'linear'}\n",
      "Average accuracy, precision=  0.75 0.75\n"
     ]
    },
    {
     "name": "stderr",
     "output_type": "stream",
     "text": [
      "/Users/peterwu/opt/anaconda3/envs/R_and_python/lib/python3.7/site-packages/sklearn/model_selection/_search.py:814: DeprecationWarning: The default of the `iid` parameter will change from True to False in version 0.22 and will be removed in 0.24. This will change numeric results when test-set sizes are unequal.\n",
      "  DeprecationWarning)\n"
     ]
    }
   ],
   "source": [
    "ds = [1,2,3,4]\n",
    "Cs = [0.001, 0.01, 0.1, 1, 10,100,1000] #ref: https://medium.com/@aneesha/svm-parameter-tuning-in-scikit-learn-using-gridsearchcv-2413c02125a0\n",
    "kernels=['linear', 'poly', 'rbf', 'sigmoid'] # I removed 'precomputed' kernel because it only accepts data that looke like: (n_samples, n_samples). Ref: https://stackoverflow.com/questions/36306555/scikit-learn-grid-search-with-svm-regression/36309526\n",
    "param_grid={'degree':ds,'C':Cs, 'kernel':kernels}\n",
    "\n",
    "my_svm(X,y,cv,param_grid)\n",
    "my_svm(X.iloc[:,0:324],y,cv,param_grid)"
   ]
  },
  {
   "cell_type": "code",
   "execution_count": 35,
   "metadata": {},
   "outputs": [
    {
     "name": "stdout",
     "output_type": "stream",
     "text": [
      "accuracy =  1.0\n",
      "precision=  1.0\n",
      "accuracy =  0.625\n",
      "precision=  0.625\n"
     ]
    }
   ],
   "source": [
    "#Neuro net \n",
    "from keras.layers import Dense \n",
    "from keras.models import Sequential\n",
    "from keras.utils import to_categorical\n",
    "from sklearn.model_selection import train_test_split\n",
    "from sklearn.model_selection import cross_val_score\n",
    "\n",
    "\n",
    "def my_neuronet(X,y):\n",
    "    test_size = 0.2\n",
    "    random_state=123\n",
    "    epochs=1000\n",
    "    optimizer='sgd'\n",
    "    loss='categorical_crossentropy'\n",
    "\n",
    "\n",
    "\n",
    "    X_train, X_test, y_train, y_test = train_test_split(X, y, test_size = test_size, random_state=random_state,stratify=y) #not sure if stratify=y works when there are more than 2 classes for the labels\n",
    "\n",
    "    model = Sequential()\n",
    "    model.add(Dense(300,activation='relu',input_dim=X.shape[1])) #X.shape[1] should equal the number of features\n",
    "    model.add(Dense(300,activation='relu'))\n",
    "    model.add(Dense(300,activation='relu'))\n",
    "    model.add(Dense(len(np.unique(y_train)),activation='softmax')) #the number of the output layer should equal the number of unique outcomes (response variables)\n",
    "\n",
    "    model.compile(optimizer=optimizer,loss=loss,metrics=['accuracy'])\n",
    "\n",
    "    model.fit(X_train, to_categorical(y_train),epochs=epochs,verbose=0) \n",
    "\n",
    "    y_pred = model.predict(X_test)\n",
    "    y_pred = np.argmax(y_pred,axis=1)\n",
    "\n",
    "    print(\"accuracy = \",np.mean(y_test==y_pred))\n",
    "    print(\"precision= \",precision_score(y_test,y_pred,average='weighted') )\n",
    "    \n",
    "    \n",
    "my_neuronet(X,y)\n",
    "my_neuronet(X.iloc[:,0:324],y)"
   ]
  },
  {
   "cell_type": "markdown",
   "metadata": {},
   "source": [
    "### Unsupervised learning"
   ]
  },
  {
   "cell_type": "code",
   "execution_count": 36,
   "metadata": {},
   "outputs": [
    {
     "data": {
      "image/png": "[encoded data removed]",
      "text/plain": [
       "<Figure size 576x576 with 1 Axes>"
      ]
     },
     "metadata": {
      "needs_background": "light"
     },
     "output_type": "display_data"
    }
   ],
   "source": [
    "#PCA\n",
    "##ref: https://towardsdatascience.com/pca-using-python-scikit-learn-e653f8989e60\n",
    "import matplotlib.pyplot as plt\n",
    "import matplotlib.cm as mplcm\n",
    "import matplotlib.colors as colors\n",
    "from sklearn.decomposition import PCA\n",
    "\n",
    "pca = PCA(n_components=2)\n",
    "principalComponents = pca.fit_transform(X)\n",
    "principalDf = pd.DataFrame(data = principalComponents)\n",
    "\n",
    "finalDf = pd.concat([principalDf, pd.DataFrame(y)], axis = 1)\n",
    "finalDf.columns = ['principal component 1', 'principal component 2','target']\n",
    "\n",
    "\n",
    "fig = plt.figure(figsize = (8,8))\n",
    "ax = fig.add_subplot(1,1,1) \n",
    "ax.set_xlabel('Principal Component 1', fontsize = 15)\n",
    "ax.set_ylabel('Principal Component 2', fontsize = 15)\n",
    "ax.set_title('2 component PCA', fontsize = 20)\n",
    "\n",
    "NUM_COLORS = len(np.unique(np.array(y)))\n",
    "cm = plt.get_cmap('gist_rainbow')\n",
    "cNorm  = colors.Normalize(vmin=0, vmax=NUM_COLORS-1)\n",
    "scalarMap = mplcm.ScalarMappable(norm=cNorm, cmap=cm)\n",
    "\n",
    "\n",
    "targets = np.unique(y) \n",
    "\n",
    "for target in targets:\n",
    "  indicesToKeep = (finalDf['target'] == target)\n",
    "  ax.scatter(finalDf.loc[indicesToKeep, 'principal component 1'], finalDf.loc[indicesToKeep, 'principal component 2'], s = 50, alpha=0.3)\n",
    "ax.legend(targets)\n",
    "ax.grid()"
   ]
  },
  {
   "cell_type": "code",
   "execution_count": 37,
   "metadata": {},
   "outputs": [
    {
     "data": {
      "image/png": "[encoded data removed]",
      "text/plain": [
       "<Figure size 720x576 with 1 Axes>"
      ]
     },
     "metadata": {
      "needs_background": "light"
     },
     "output_type": "display_data"
    }
   ],
   "source": [
    "#GMM with EM (Note: the coloring is by gmm clustering, not by labels)\n",
    "#Did this with some trials and errors. Haven't really understand conceptually how it works\n",
    "#ref: https://towardsdatascience.com/gaussian-mixture-modelling-gmm-833c88587c7f\n",
    "\n",
    "from sklearn.decomposition import PCA\n",
    "from sklearn.mixture import GaussianMixture\n",
    "from scipy.stats import multivariate_normal as mvn\n",
    "\n",
    "n_components=3 #there are 3 species\n",
    "pose_pca = PCA(n_components = 2) \n",
    "\n",
    "Y_sklearn = pose_pca.fit_transform(X)\n",
    "gmm = GaussianMixture(n_components=n_components, covariance_type='full').fit(Y_sklearn) #EM is already within this (https://scikit-learn.org/stable/auto_examples/mixture/plot_gmm.html)\n",
    "prediction_gmm = gmm.predict(Y_sklearn)\n",
    "probs = gmm.predict_proba(Y_sklearn)\n",
    "\n",
    "centers = np.zeros((n_components,Y_sklearn.shape[1]))\n",
    "for i in range(n_components):\n",
    "    density = mvn(cov=gmm.covariances_[i], mean=gmm.means_[i]).logpdf(Y_sklearn)\n",
    "    centers[i, :] = Y_sklearn[np.argmax(density)]\n",
    "\n",
    "plt.figure(figsize = (10,8))\n",
    "plt.scatter(Y_sklearn[:, 0], Y_sklearn[:, 1],c=y ,s=50, cmap='viridis', alpha=0.6)\n",
    "plt.scatter(centers[:, 0], centers[:, 1],c='black', s=500, alpha=0.2);\n",
    "\n",
    "# display predicted scores by the model as a contour plot\n",
    "from matplotlib.colors import LogNorm\n",
    "\n",
    "x = np.linspace(-4., 6.)\n",
    "y_ = np.linspace(-4., 6.)\n",
    "x, y_ = np.meshgrid(x, y_)\n",
    "xx = np.array([x.ravel(), y_.ravel()]).T\n",
    "z = -gmm.score_samples(xx)\n",
    "z = z.reshape(x.shape)\n",
    "\n",
    "CS = plt.contour(x, y_, z, norm=LogNorm(vmin=1.0, vmax=1000.0),\n",
    "                 levels=np.logspace(0, 3, 10))"
   ]
  },
  {
   "cell_type": "code",
   "execution_count": 38,
   "metadata": {},
   "outputs": [
    {
     "data": {
      "image/png": "[encoded data removed]",
      "text/plain": [
       "<Figure size 576x576 with 1 Axes>"
      ]
     },
     "metadata": {
      "needs_background": "light"
     },
     "output_type": "display_data"
    }
   ],
   "source": [
    "# t-SNE\n",
    "##ref: https://medium.com/@sourajit16.02.93/tsne-t-distributed-stochastic-neighborhood-embedding-state-of-the-art-c2b4b875b7da\n",
    "from sklearn.manifold import TSNE \n",
    "\n",
    "\n",
    "# Module for standardization\n",
    "from sklearn.preprocessing import StandardScaler\n",
    "#Get the standardized data\n",
    "standardized_data = StandardScaler().fit_transform(X)\n",
    "\n",
    "model = TSNE(n_components=2,perplexity=12,n_iter=100000) #n_components means the lower dimension\n",
    "\n",
    "low_dim_data = pd.DataFrame(model.fit_transform(standardized_data))\n",
    "\n",
    "\n",
    "finalDf = pd.concat([low_dim_data, pd.DataFrame(y)], axis = 1)\n",
    "finalDf.columns = ['Dim 1', 'Dim 2','target']\n",
    "\n",
    "\n",
    "fig = plt.figure(figsize = (8,8))\n",
    "ax = fig.add_subplot(1,1,1) \n",
    "ax.set_xlabel('Dim 1', fontsize = 15)\n",
    "ax.set_ylabel('Dim 2', fontsize = 15)\n",
    "ax.set_title('2 component tSNE', fontsize = 20)\n",
    "targets = np.unique(y)\n",
    "\n",
    "from itertools import cycle\n",
    "cycol = cycle('bgrcmk')\n",
    "\n",
    "for target in targets:\n",
    "  indicesToKeep = (finalDf['target'] == target)\n",
    "  ax.scatter(finalDf.loc[indicesToKeep, 'Dim 1'], finalDf.loc[indicesToKeep, 'Dim 2'], s = 50, color=next(cycol), alpha=0.3)\n",
    "ax.legend(targets)\n",
    "ax.grid()"
   ]
  },
  {
   "cell_type": "code",
   "execution_count": 39,
   "metadata": {},
   "outputs": [
    {
     "data": {
      "image/png": "[encoded data removed]",
      "text/plain": [
       "<Figure size 432x288 with 2 Axes>"
      ]
     },
     "metadata": {
      "needs_background": "light"
     },
     "output_type": "display_data"
    }
   ],
   "source": [
    "# self-organizing map\n",
    "##ref: https://rubikscode.net/2018/08/27/implementing-self-organizing-maps-with-python-and-tensorflow/\n",
    "##ref: https://pypi.org/project/MiniSom/\n",
    "##ref: https://github.com/JustGlowing/minisom\n",
    "##ref: https://glowingpython.blogspot.com/2013/09/self-organizing-maps.html\n",
    "#!pip install minisom\n",
    "from minisom import MiniSom\n",
    "from numpy import genfromtxt,array,linalg,zeros,apply_along_axis\n",
    "\n",
    "data = X\n",
    "# normalization to unity of each pattern in the data\n",
    "data = apply_along_axis(lambda x: x/linalg.norm(x),1,data)\n",
    "\n",
    "from minisom import MiniSom\n",
    "### Initialization and training ###\n",
    "som = MiniSom(5,5,X.shape[1],sigma=1.0,learning_rate=0.5)\n",
    "som.random_weights_init(data)\n",
    "som.train_random(data,100) # training with 100 iterations\n",
    "\n",
    "from pylab import plot,axis,show,pcolor,colorbar,bone\n",
    "bone()\n",
    "pcolor(som.distance_map().T) # distance map as background\n",
    "colorbar()\n",
    "\n",
    "# use different colors and markers for each label\n",
    "markers = ['o','s','D']\n",
    "colors = ['r','g','b']\n",
    "for cnt,xx in enumerate(data):\n",
    " w = som.winner(xx) # getting the winner\n",
    " # palce a marker on the winning position for the sample xx\n",
    " plot(w[0]+.5,w[1]+.5,markers[y[cnt]],markerfacecolor='None',\n",
    "   markeredgecolor=colors[y[cnt]],markersize=12,markeredgewidth=2)\n",
    "show() # show the figure"
   ]
  }
 ],
 "metadata": {
  "kernelspec": {
   "display_name": "Python 3",
   "language": "python",
   "name": "python3"
  },
  "language_info": {
   "codemirror_mode": {
    "name": "ipython",
    "version": 3
   },
   "file_extension": ".py",
   "mimetype": "text/x-python",
   "name": "python",
   "nbconvert_exporter": "python",
   "pygments_lexer": "ipython3",
   "version": "3.7.5"
  }
 },
 "nbformat": 4,
 "nbformat_minor": 2
}
