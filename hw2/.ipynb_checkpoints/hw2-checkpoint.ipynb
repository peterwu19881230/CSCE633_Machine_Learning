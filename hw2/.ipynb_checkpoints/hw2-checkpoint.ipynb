{
 "cells": [
  {
   "cell_type": "markdown",
   "metadata": {
    "colab_type": "text",
    "id": "GP4XlV75B26a"
   },
   "source": [
    "# Homework 2"
   ]
  },
  {
   "cell_type": "markdown",
   "metadata": {
    "colab_type": "text",
    "id": "c2y4YyB4CETd"
   },
   "source": [
    "##Q1"
   ]
  },
  {
   "cell_type": "markdown",
   "metadata": {
    "colab_type": "text",
    "id": "nIqelrHZM6_G"
   },
   "source": [
    "### Load & normalize the data"
   ]
  },
  {
   "cell_type": "code",
   "execution_count": 110,
   "metadata": {
    "colab": {
     "base_uri": "https://localhost:8080/",
     "height": 1000
    },
    "colab_type": "code",
    "executionInfo": {
     "elapsed": 7470,
     "status": "ok",
     "timestamp": 1569802051480,
     "user": {
      "displayName": "I Fan Wu",
      "photoUrl": "https://lh3.googleusercontent.com/a-/AAuE7mCNxFm0D9Xkhid5agrnkj4GF0rK9fu11dW47w9dJPw=s64",
      "userId": "11377772108864251279"
     },
     "user_tz": 300
    },
    "id": "LCdyGNYXCu39",
    "outputId": "3f63e375-9716-4f12-e6e6-4fef8f072f3e"
   },
   "outputs": [
    {
     "name": "stdout",
     "output_type": "stream",
     "text": [
      "    0         1         2         3   ...        32        33        34        35\n",
      "0  NaN  1.000000  0.694047  0.427273  ...  0.610156  0.651456  0.231579  0.158984\n",
      "1  NaN  0.890850  0.196389  0.150320  ...  0.796417  0.839826  0.307227  0.141549\n",
      "2  1.0  0.928588  0.771404  0.364708  ...  0.283042  0.448587  0.113400  0.002494\n",
      "3  NaN  0.695489  0.229246  0.113419  ...  0.839346  0.831158  0.678270  0.437713\n",
      "4  NaN  0.567578  0.280369  0.081376  ...  0.553549  0.451600  0.123776  0.000000\n",
      "\n",
      "[5 rows x 36 columns]\n"
     ]
    },
    {
     "data": {
      "text/plain": [
       "array([[<matplotlib.axes._subplots.AxesSubplot object at 0x7f4ec3c5d4e0>,\n",
       "        <matplotlib.axes._subplots.AxesSubplot object at 0x7f4e9b674a90>,\n",
       "        <matplotlib.axes._subplots.AxesSubplot object at 0x7f4ef7337cf8>,\n",
       "        <matplotlib.axes._subplots.AxesSubplot object at 0x7f4ef7342f60>,\n",
       "        <matplotlib.axes._subplots.AxesSubplot object at 0x7f4ef7364208>,\n",
       "        <matplotlib.axes._subplots.AxesSubplot object at 0x7f4e9b64c470>],\n",
       "       [<matplotlib.axes._subplots.AxesSubplot object at 0x7f4e9b5f46d8>,\n",
       "        <matplotlib.axes._subplots.AxesSubplot object at 0x7f4e9b61b978>,\n",
       "        <matplotlib.axes._subplots.AxesSubplot object at 0x7f4e9b61b9b0>,\n",
       "        <matplotlib.axes._subplots.AxesSubplot object at 0x7f4e9b5eee10>,\n",
       "        <matplotlib.axes._subplots.AxesSubplot object at 0x7f4e9b5a00b8>,\n",
       "        <matplotlib.axes._subplots.AxesSubplot object at 0x7f4e9b54c320>],\n",
       "       [<matplotlib.axes._subplots.AxesSubplot object at 0x7f4e9b572588>,\n",
       "        <matplotlib.axes._subplots.AxesSubplot object at 0x7f4e9b51d7f0>,\n",
       "        <matplotlib.axes._subplots.AxesSubplot object at 0x7f4e9b4c4a58>,\n",
       "        <matplotlib.axes._subplots.AxesSubplot object at 0x7f4e9b4eecc0>,\n",
       "        <matplotlib.axes._subplots.AxesSubplot object at 0x7f4eecf71080>,\n",
       "        <matplotlib.axes._subplots.AxesSubplot object at 0x7f4ec67cd4e0>],\n",
       "       [<matplotlib.axes._subplots.AxesSubplot object at 0x7f4e9b4a0a58>,\n",
       "        <matplotlib.axes._subplots.AxesSubplot object at 0x7f4e9b444fd0>,\n",
       "        <matplotlib.axes._subplots.AxesSubplot object at 0x7f4e9b470588>,\n",
       "        <matplotlib.axes._subplots.AxesSubplot object at 0x7f4e9b415b00>,\n",
       "        <matplotlib.axes._subplots.AxesSubplot object at 0x7f4e9b3c40b8>,\n",
       "        <matplotlib.axes._subplots.AxesSubplot object at 0x7f4e9b3eb630>],\n",
       "       [<matplotlib.axes._subplots.AxesSubplot object at 0x7f4e9b394ba8>,\n",
       "        <matplotlib.axes._subplots.AxesSubplot object at 0x7f4e9b345160>,\n",
       "        <matplotlib.axes._subplots.AxesSubplot object at 0x7f4e9b36c6d8>,\n",
       "        <matplotlib.axes._subplots.AxesSubplot object at 0x7f4e9b315c50>,\n",
       "        <matplotlib.axes._subplots.AxesSubplot object at 0x7f4e9b2c6208>,\n",
       "        <matplotlib.axes._subplots.AxesSubplot object at 0x7f4e9b2ec780>],\n",
       "       [<matplotlib.axes._subplots.AxesSubplot object at 0x7f4e9b295cf8>,\n",
       "        <matplotlib.axes._subplots.AxesSubplot object at 0x7f4e9b2462b0>,\n",
       "        <matplotlib.axes._subplots.AxesSubplot object at 0x7f4e9b26e828>,\n",
       "        <matplotlib.axes._subplots.AxesSubplot object at 0x7f4e9b216da0>,\n",
       "        <matplotlib.axes._subplots.AxesSubplot object at 0x7f4e9b1c7358>,\n",
       "        <matplotlib.axes._subplots.AxesSubplot object at 0x7f4e9b1ef8d0>]],\n",
       "      dtype=object)"
      ]
     },
     "execution_count": 110,
     "metadata": {
      "tags": []
     },
     "output_type": "execute_result"
    },
    {
     "data": {
      "image/png": "[encoded data removed]",
      "text/plain": [
       "<Figure size 432x288 with 36 Axes>"
      ]
     },
     "metadata": {
      "tags": []
     },
     "output_type": "display_data"
    }
   ],
   "source": [
    "#test\n",
    "import pandas as pd\n",
    "import numpy as np\n",
    "from urllib.request import urlopen\n",
    "import re\n",
    "import math\n",
    "from sklearn import preprocessing\n",
    "\n",
    "data = urlopen(\"https://raw.githubusercontent.com/peterwu19881230/CSCE633_ML_data/master/satimage.scale.training\") # it's a file like object and works just like a file\n",
    "\n",
    "rows=[]\n",
    "for line in data: # files are iterable\n",
    "    string=str(line).rstrip() #rstrip() is to trim EOL\n",
    "    words=string.split(sep=\" \")\n",
    "    \n",
    "    class_=words[0]\n",
    "    words.pop(0) #remove the first element (response variable)\n",
    "    words.pop(-1) #remove \"\\n\" caused by \" \" at the end of each line\n",
    "\n",
    "    row=[float('nan')]*36 #I have checked that for each row there are at most 36 features \n",
    "    for word in words:\n",
    "      col_result=re.search('([0-9]{1,2}):.*',word) #.* means \"0 or more of any character\"      \n",
    "      col=int(col_result.group(1))\n",
    "\n",
    "      value_result=re.search('[0-9]{1,2}:(.*)',word)\n",
    "      \n",
    "      row[col-1]=float(value_result.group(1))\n",
    "\n",
    "    rows.append(row)\n",
    "\n",
    "df=pd.DataFrame(rows)\n",
    "\n",
    "#normalize the data (definition of normalization: https://scikit-learn.org/stable/modules/generated/sklearn.preprocessing.MinMaxScaler.html)\n",
    "min_max_scaler = preprocessing.MinMaxScaler(feature_range=(0, 1))\n",
    "normalized_df=pd.DataFrame(min_max_scaler.fit_transform(df.T), columns=df.index, index=df.columns).T #ref: https://stackoverflow.com/questions/26414913/normalize-columns-of-pandas-data-frame\n",
    "\n",
    "#check no. of cols & rows\n",
    "print(normalized_df.head()) \n",
    "\n",
    "##verify by printing histograms for all columns \n",
    "normalized_df.hist()\n",
    "\n"
   ]
  },
  {
   "cell_type": "markdown",
   "metadata": {
    "colab_type": "text",
    "id": "HMrm4HNeMrib"
   },
   "source": [
    "### Calculate how many nan are there -> decide to ignore or impute"
   ]
  },
  {
   "cell_type": "code",
   "execution_count": 109,
   "metadata": {
    "colab": {
     "base_uri": "https://localhost:8080/",
     "height": 646
    },
    "colab_type": "code",
    "executionInfo": {
     "elapsed": 338,
     "status": "ok",
     "timestamp": 1569802014946,
     "user": {
      "displayName": "I Fan Wu",
      "photoUrl": "https://lh3.googleusercontent.com/a-/AAuE7mCNxFm0D9Xkhid5agrnkj4GF0rK9fu11dW47w9dJPw=s64",
      "userId": "11377772108864251279"
     },
     "user_tz": 300
    },
    "id": "LFa1V8dF6rA1",
    "outputId": "d3c22d14-5ff7-41b1-bc42-0d46856bc22f"
   },
   "outputs": [
    {
     "data": {
      "text/plain": [
       "0      59\n",
       "1       0\n",
       "2      55\n",
       "3       0\n",
       "4     231\n",
       "5       0\n",
       "6       0\n",
       "7       0\n",
       "8      54\n",
       "9       0\n",
       "10      0\n",
       "11      0\n",
       "12    259\n",
       "13    230\n",
       "14      0\n",
       "15    172\n",
       "16     55\n",
       "17      0\n",
       "18      0\n",
       "19      0\n",
       "20      0\n",
       "21      0\n",
       "22      0\n",
       "23      0\n",
       "24     63\n",
       "25    219\n",
       "26      0\n",
       "27    156\n",
       "28      0\n",
       "29      0\n",
       "30      0\n",
       "31      0\n",
       "32     59\n",
       "33      0\n",
       "34      0\n",
       "35      0\n",
       "dtype: int64"
      ]
     },
     "execution_count": 109,
     "metadata": {
      "tags": []
     },
     "output_type": "execute_result"
    }
   ],
   "source": [
    "normalized_df.isna().sum()"
   ]
  },
  {
   "cell_type": "markdown",
   "metadata": {
    "colab_type": "text",
    "id": "E95MuiGhCHLc"
   },
   "source": [
    "##Q2"
   ]
  },
  {
   "cell_type": "markdown",
   "metadata": {
    "colab_type": "text",
    "id": "neI-ojDxCIxU"
   },
   "source": [
    "##Q3"
   ]
  },
  {
   "cell_type": "markdown",
   "metadata": {
    "colab_type": "text",
    "id": "4KtqxV1REuCF"
   },
   "source": [
    "satimage.scale.training: https://raw.githubusercontent.com/peterwu19881230/CSCE633_ML_data/master/satimage.scale.training\n",
    "satimage.scale.t: https://github.com/peterwu19881230/CSCE633_ML_data/raw/master/satimage.scale.t\n",
    "hw2_question3.csv: https://raw.githubusercontent.com/peterwu19881230/CSCE633_ML_data/master/hw2_question3.csv"
   ]
  }
 ],
 "metadata": {
  "colab": {
   "name": "hw2.ipynb",
   "provenance": []
  },
  "kernelspec": {
   "display_name": "Python 3",
   "language": "python",
   "name": "python3"
  },
  "language_info": {
   "codemirror_mode": {
    "name": "ipython",
    "version": 3
   },
   "file_extension": ".py",
   "mimetype": "text/x-python",
   "name": "python",
   "nbconvert_exporter": "python",
   "pygments_lexer": "ipython3",
   "version": "3.7.3"
  }
 },
 "nbformat": 4,
 "nbformat_minor": 1
}
